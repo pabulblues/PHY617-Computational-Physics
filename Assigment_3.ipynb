{
 "cells": [
  {
   "cell_type": "code",
   "execution_count": 3,
   "metadata": {},
   "outputs": [],
   "source": [
    "import numpy as np"
   ]
  },
  {
   "cell_type": "markdown",
   "metadata": {},
   "source": [
    "### Question 1"
   ]
  },
  {
   "cell_type": "code",
   "execution_count": 1,
   "metadata": {},
   "outputs": [],
   "source": [
    "n = int(input(\"Enter size:\"))\n",
    "\n",
    "def create_matrix(n): \n",
    "    A = np.empty([n,n])\n",
    "    B = np.empty([n,n])\n",
    "    for i in range(n):\n",
    "        for j in range(n): \n",
    "            A[i][j] = i * j/100\n",
    "            B[i][j] = ((i + 1) * (j + 1))/100 \n",
    "    return A, B\n",
    "\n",
    "def mat_mul(A, B): \n",
    "    n = len(A)\n",
    "    C = np.empty([n, n])\n",
    "    for i in range(n):\n",
    "        \n",
    "        "
   ]
  },
  {
   "cell_type": "code",
   "execution_count": 4,
   "metadata": {},
   "outputs": [
    {
     "data": {
      "text/plain": [
       "(array([[0.  , 0.  , 0.  ],\n",
       "        [0.  , 0.01, 0.02],\n",
       "        [0.  , 0.02, 0.04]]),\n",
       " array([[0.01, 0.02, 0.03],\n",
       "        [0.02, 0.04, 0.06],\n",
       "        [0.03, 0.06, 0.09]]))"
      ]
     },
     "execution_count": 4,
     "metadata": {},
     "output_type": "execute_result"
    }
   ],
   "source": [
    "A, B = create_matrix(n)"
   ]
  },
  {
   "cell_type": "code",
   "execution_count": null,
   "metadata": {},
   "outputs": [],
   "source": []
  }
 ],
 "metadata": {
  "kernelspec": {
   "display_name": "work_env",
   "language": "python",
   "name": "python3"
  },
  "language_info": {
   "codemirror_mode": {
    "name": "ipython",
    "version": 3
   },
   "file_extension": ".py",
   "mimetype": "text/x-python",
   "name": "python",
   "nbconvert_exporter": "python",
   "pygments_lexer": "ipython3",
   "version": "3.11.8"
  }
 },
 "nbformat": 4,
 "nbformat_minor": 2
}
