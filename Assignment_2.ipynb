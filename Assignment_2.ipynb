{
 "cells": [
  {
   "cell_type": "code",
   "execution_count": 2,
   "metadata": {},
   "outputs": [],
   "source": [
    "import numpy as np "
   ]
  },
  {
   "cell_type": "markdown",
   "metadata": {},
   "source": [
    "### Question 1"
   ]
  },
  {
   "cell_type": "code",
   "execution_count": 16,
   "metadata": {},
   "outputs": [],
   "source": [
    "n = int(input(\"enter n:\")) "
   ]
  },
  {
   "cell_type": "code",
   "execution_count": 17,
   "metadata": {},
   "outputs": [],
   "source": [
    "def fibonacci(n):\n",
    "    if n==1: return 0\n",
    "    elif n==2: return 1 \n",
    "\n",
    "    while n>=3: \n",
    "        return fibonacci(n-1)+fibonacci(n-2)"
   ]
  },
  {
   "cell_type": "code",
   "execution_count": 19,
   "metadata": {},
   "outputs": [
    {
     "name": "stdout",
     "output_type": "stream",
     "text": [
      "ratio: 2.0\n"
     ]
    }
   ],
   "source": [
    "print(\"ratio:\", fibonacci(n)/fibonacci(n-1))"
   ]
  },
  {
   "cell_type": "markdown",
   "metadata": {},
   "source": [
    "### Question 2"
   ]
  },
  {
   "cell_type": "code",
   "execution_count": 37,
   "metadata": {},
   "outputs": [],
   "source": [
    "# x1, y1 = input(\"enter x1 and y1 values:\").split()\n",
    "# x2, y2 = int(input(\"enter x2 and y2 values:\")).split()\n",
    "# x3, y3 = int(input(\"enter x3 and y3 values:\"))\n",
    "p1 = list(map(int, input(\"Enter numbers: \").split()))\n",
    "p2 = list(map(int, input(\"Enter numbers: \").split()))\n",
    "p3 = list(map(int, input(\"Enter numbers: \").split()))\n",
    "\n",
    "x1, y1 = p1[0], p1[1]\n",
    "x2, y2 = p2[0], p2[1]\n",
    "x3, y3 = p3[0], p3[1]"
   ]
  },
  {
   "cell_type": "code",
   "execution_count": 39,
   "metadata": {},
   "outputs": [
    {
     "name": "stdout",
     "output_type": "stream",
     "text": [
      "Colinear\n"
     ]
    }
   ],
   "source": [
    "m1 = (y2-y1)/(x2-x1)\n",
    "m2 = (y3-y2)/(x3-x2)\n",
    "\n",
    "if x1==x2 and x2==x3: \n",
    "    print(\"Colinear\")\n",
    "elif m1 == np.inf or m2 == np.inf: \n",
    "    print(\"not colinear\")\n",
    "elif m1 == m2: \n",
    "    print(\"Colinear\")\n"
   ]
  },
  {
   "cell_type": "markdown",
   "metadata": {},
   "source": [
    "### Question 3"
   ]
  },
  {
   "cell_type": "code",
   "execution_count": 3,
   "metadata": {},
   "outputs": [],
   "source": [
    "sum = sum([np.exp(i) for i in range(10)])"
   ]
  },
  {
   "cell_type": "code",
   "execution_count": 4,
   "metadata": {},
   "outputs": [
    {
     "data": {
      "text/plain": [
       "12818.308050524603"
      ]
     },
     "execution_count": 4,
     "metadata": {},
     "output_type": "execute_result"
    }
   ],
   "source": [
    "sum"
   ]
  },
  {
   "cell_type": "markdown",
   "metadata": {},
   "source": [
    "### Question 4"
   ]
  },
  {
   "cell_type": "code",
   "execution_count": 6,
   "metadata": {},
   "outputs": [],
   "source": [
    "M = 67\n",
    "p = 1.038 \n",
    "c = 3.7\n",
    "K = 5.4e-3 \n",
    "Tw = 100 \n",
    "Ty = 70\n",
    "T0 = 4"
   ]
  },
  {
   "cell_type": "code",
   "execution_count": 7,
   "metadata": {},
   "outputs": [],
   "source": [
    "C = (M**(2/3) * c * p**(1/3))/(K * np.pi**2 * (4*np.pi/3)**2/3)\n",
    "Log = np.log(0.76*((T0-Tw)/(Ty-Tw)))\n",
    "\n",
    "t = C * Log \n"
   ]
  },
  {
   "cell_type": "code",
   "execution_count": 8,
   "metadata": {},
   "outputs": [
    {
     "data": {
      "text/plain": [
       "176.19621662081715"
      ]
     },
     "execution_count": 8,
     "metadata": {},
     "output_type": "execute_result"
    }
   ],
   "source": [
    "t"
   ]
  },
  {
   "cell_type": "code",
   "execution_count": null,
   "metadata": {},
   "outputs": [],
   "source": []
  }
 ],
 "metadata": {
  "kernelspec": {
   "display_name": "work_env",
   "language": "python",
   "name": "python3"
  },
  "language_info": {
   "codemirror_mode": {
    "name": "ipython",
    "version": 3
   },
   "file_extension": ".py",
   "mimetype": "text/x-python",
   "name": "python",
   "nbconvert_exporter": "python",
   "pygments_lexer": "ipython3",
   "version": "3.11.8"
  }
 },
 "nbformat": 4,
 "nbformat_minor": 2
}
