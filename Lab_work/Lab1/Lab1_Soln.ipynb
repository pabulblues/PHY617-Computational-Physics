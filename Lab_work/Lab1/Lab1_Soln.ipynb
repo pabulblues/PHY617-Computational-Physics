{
 "cells": [
  {
   "cell_type": "code",
   "execution_count": 290,
   "id": "c4014d23-3da2-4da1-9d6d-e9171b9d11f4",
   "metadata": {},
   "outputs": [],
   "source": [
    "import numpy as np \n",
    "import scipy.constants "
   ]
  },
  {
   "cell_type": "markdown",
   "id": "6caa5e45-bed4-43a3-911c-4c3beb0f2e4f",
   "metadata": {},
   "source": [
    "## Question 1"
   ]
  },
  {
   "cell_type": "code",
   "execution_count": 268,
   "id": "1b3471be-20b1-4fee-90d3-0b86ab7a5fcb",
   "metadata": {},
   "outputs": [],
   "source": [
    "# defining constants : mass, Energy and step potential\n",
    "m = 9.11e-31\n",
    "E = 10 \n",
    "V = 9 "
   ]
  },
  {
   "cell_type": "code",
   "execution_count": 269,
   "id": "88d3a027-a441-4e18-928c-8afc32e299b5",
   "metadata": {},
   "outputs": [],
   "source": [
    "# calculate wavevectors \n",
    "k1 = np.sqrt(2*m*E)/scipy.constants.hbar\n",
    "k2 = np.sqrt(2*m*(E-V))/scipy.constants.hbar"
   ]
  },
  {
   "cell_type": "code",
   "execution_count": 270,
   "id": "dbbd6d88-fbfd-4040-9603-5bf815b4c4bf",
   "metadata": {},
   "outputs": [],
   "source": [
    "# calculate transmission and reflection probabilities\n",
    "T = 4*k1*k2/(k1+k2)**2\n",
    "R = (k1-k2/k1+k2)**2"
   ]
  },
  {
   "cell_type": "code",
   "execution_count": 271,
   "id": "bf2e7962-8765-4ac2-9fdd-4eec654ddcaf",
   "metadata": {},
   "outputs": [
    {
     "name": "stdout",
     "output_type": "stream",
     "text": [
      "transmission probability: 0.7301261363877616\n",
      "reflection probability: 2.838299015879431e+39\n"
     ]
    }
   ],
   "source": [
    "print(\"transmission probability:\", T)\n",
    "print(\"reflection probability:\", R)"
   ]
  },
  {
   "cell_type": "markdown",
   "id": "10cc4008-6b47-43ae-9f3d-1e40bdf0d83a",
   "metadata": {},
   "source": [
    "## Question 2"
   ]
  },
  {
   "cell_type": "code",
   "execution_count": 272,
   "id": "7720ed13-eab2-45cf-81a6-d200a1429766",
   "metadata": {},
   "outputs": [
    {
     "name": "stdin",
     "output_type": "stream",
     "text": [
      "Enter x coordinate: 2\n",
      "Enter y coordinate: 3\n"
     ]
    }
   ],
   "source": [
    "x = float(input(\"Enter x coordinate:\"))\n",
    "y = float(input(\"Enter y coordinate:\"))"
   ]
  },
  {
   "cell_type": "code",
   "execution_count": 273,
   "id": "04dc2169-e0fa-42e6-b3b5-4ca6f24146c0",
   "metadata": {},
   "outputs": [],
   "source": [
    "# calculating polar coordinates \n",
    "r = np.sqrt(x**2 + y**2)\n",
    "theta = np.arctan(y/x)*(180/np.pi)"
   ]
  },
  {
   "cell_type": "code",
   "execution_count": 275,
   "id": "9bda1020-8a67-4428-85e4-6ec3baf2c5d2",
   "metadata": {},
   "outputs": [
    {
     "name": "stdout",
     "output_type": "stream",
     "text": [
      "polar coordinates:\n",
      "r = 3.605551275463989\n",
      "theta = 56.309932474020215\n"
     ]
    }
   ],
   "source": [
    "print(\"polar coordinates:\")\n",
    "print(\"r =\", r)\n",
    "print(\"theta =\", theta)"
   ]
  },
  {
   "cell_type": "markdown",
   "id": "3edd692a-b884-4e5d-af55-bd131b0ba339",
   "metadata": {},
   "source": [
    "## Question 3"
   ]
  },
  {
   "cell_type": "code",
   "execution_count": 276,
   "id": "7a224c76-9deb-4cc7-984b-a0021977e5c4",
   "metadata": {},
   "outputs": [],
   "source": [
    "M = 1.9891e+30\n",
    "G = 6.6738e-11"
   ]
  },
  {
   "cell_type": "code",
   "execution_count": 288,
   "id": "f355c8ab-030e-424e-b584-faae62413a48",
   "metadata": {},
   "outputs": [
    {
     "name": "stdin",
     "output_type": "stream",
     "text": [
      "velocity at perihelion: 3.0287e4\n",
      "distance of planet from sun at perihelion: 1.4710e11\n"
     ]
    },
    {
     "name": "stdout",
     "output_type": "stream",
     "text": [
      "velocity at aphelion: 29305.39917726127\n",
      "distance of earth from sun at aphelion: 152027197208.65994\n",
      "Time period for earth: 1.0002238777234564\n"
     ]
    }
   ],
   "source": [
    "#Earth\n",
    "v1 = float(input(\"velocity at perihelion:\"))\n",
    "l1 = float(input(\"distance of planet from sun at perihelion:\"))\n",
    "\n",
    "b = 2*G*M/(v1*l1)\n",
    "c = ((v1**2) - (2*G*M/l1))\n",
    "\n",
    "v2 = (b - np.sqrt((b**2)+(4*c)))/2\n",
    "print(\"velocity at aphelion:\", v2)\n",
    "l2 = l1*v1/(v2)\n",
    "print(\"distance of earth from sun at aphelion:\", l2)\n",
    "\n",
    "a = (l1 + l2)/2 #Semi-major axis\n",
    "b = np.sqrt(l1*l2) #Semi-minor axis\n",
    "T = (2*np.pi*a*b)/(l1*v1) #Orbital period\n",
    "e = (l2 - l1)/(l2 + l1) #Orbital eccentricity\n",
    "\n",
    "print(\"Time period for earth:\", T/(24*3600*365))"
   ]
  },
  {
   "cell_type": "code",
   "execution_count": 289,
   "id": "be62cd58-cd7f-438e-8453-be9a046f962b",
   "metadata": {},
   "outputs": [
    {
     "name": "stdin",
     "output_type": "stream",
     "text": [
      "velocity at perihelion: 5.4529e4\n",
      "distance of planet from sun at perihelion: 8.7830e10\n"
     ]
    },
    {
     "name": "stdout",
     "output_type": "stream",
     "text": [
      "velocity at aphelion: 906.6806969191493\n",
      "distance of Halley's comet from sun at aphelion: 5282214660876.441\n",
      "Time period for Halley's Comet: 76.08170065465461\n"
     ]
    }
   ],
   "source": [
    "#Halley's comet\n",
    "v1 = float(input(\"velocity at perihelion:\"))\n",
    "l1 = float(input(\"distance of planet from sun at perihelion:\"))\n",
    "\n",
    "b = 2*G*M/(v1*l1)\n",
    "c = ((v1**2) - (2*G*M/l1))\n",
    "\n",
    "v2 = (b - np.sqrt((b**2)+(4*c)))/2\n",
    "print(\"velocity at aphelion:\", v2)\n",
    "l2 = l1*v1/(v2)\n",
    "print(\"distance of Halley's comet from sun at aphelion:\", l2)\n",
    "\n",
    "a = (l1 + l2)/2 #Semi-major axis\n",
    "b = np.sqrt(l1*l2) #Semi-minor axis\n",
    "T = (2*np.pi*a*b)/(l1*v1) #Orbital period\n",
    "e = (l2 - l1)/(l2 + l1) #Orbital eccentricity\n",
    "\n",
    "print(\"Time period for Halley's Comet:\", T/(24*3600*365))"
   ]
  }
 ],
 "metadata": {
  "kernelspec": {
   "display_name": "Python 3 (ipykernel)",
   "language": "python",
   "name": "python3"
  },
  "language_info": {
   "codemirror_mode": {
    "name": "ipython",
    "version": 3
   },
   "file_extension": ".py",
   "mimetype": "text/x-python",
   "name": "python",
   "nbconvert_exporter": "python",
   "pygments_lexer": "ipython3",
   "version": "3.12.7"
  }
 },
 "nbformat": 4,
 "nbformat_minor": 5
}
