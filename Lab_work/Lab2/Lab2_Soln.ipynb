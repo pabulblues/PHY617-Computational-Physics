<?xml version="1.0" encoding="UTF-8"?>
<!DOCTYPE plist PUBLIC "-//Apple//DTD PLIST 1.0//EN" "http://www.apple.com/DTDs/PropertyList-1.0.dtd">
<plist version="1.0">
<dict>
	<key>URL</key>
	<string>https://hello.iitk.ac.in/manage/phy617sem22425/assignment_answers/PahalPatel_220742_53159f8d-a270-4889-95eb-5b519a25cb68.ipynb</string>
</dict>
</plist>
