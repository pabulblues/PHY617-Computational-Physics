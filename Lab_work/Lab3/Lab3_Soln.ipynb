{
 "cells": [
  {
   "cell_type": "code",
   "execution_count": 149,
   "id": "45c74082-3837-46fe-b563-befc87451d11",
   "metadata": {},
   "outputs": [],
   "source": [
    "import numpy as np \n",
    "import matplotlib.pyplot as plt\n",
    "import time"
   ]
  },
  {
   "cell_type": "markdown",
   "id": "17437424-2ca6-4b9b-a27c-38914684934e",
   "metadata": {},
   "source": [
    "### Question 1"
   ]
  },
  {
   "cell_type": "code",
   "execution_count": 150,
   "id": "56e2a916-6961-481a-89ee-39c0811a8bad",
   "metadata": {},
   "outputs": [],
   "source": [
    "def create_matrix(mat:str, N:int=100):\n",
    "    matrix = np.empty([N,N])\n",
    "    if mat=='A':\n",
    "        for i in range(1, N+1):\n",
    "            for j in range(1, N+1):\n",
    "                matrix[i-1][j-1] =  i*j/100\n",
    "        return matrix\n",
    "    elif mat=='B':\n",
    "        for i in range(1, N+1):\n",
    "            for j in range(1, N+1):\n",
    "                matrix[i-1][j-1] =  ((i+1)*(j+1))/100\n",
    "        return matrix\n"
   ]
  },
  {
   "cell_type": "code",
   "execution_count": 151,
   "id": "3173a7c8-6f7b-4700-99d6-51ccf9ee3d0b",
   "metadata": {},
   "outputs": [
    {
     "name": "stdin",
     "output_type": "stream",
     "text": [
      "Enter N: 50\n"
     ]
    }
   ],
   "source": [
    "N = int(input(\"Enter N:\"))\n",
    "A = create_matrix('A',N)\n",
    "B = create_matrix('B',N)"
   ]
  },
  {
   "cell_type": "code",
   "execution_count": 152,
   "id": "03148f47-4c49-4ef8-ba5f-b7e15b8b7e4d",
   "metadata": {},
   "outputs": [
    {
     "data": {
      "text/plain": [
       "(array([[1.000e-02, 2.000e-02, 3.000e-02, ..., 4.800e-01, 4.900e-01,\n",
       "         5.000e-01],\n",
       "        [2.000e-02, 4.000e-02, 6.000e-02, ..., 9.600e-01, 9.800e-01,\n",
       "         1.000e+00],\n",
       "        [3.000e-02, 6.000e-02, 9.000e-02, ..., 1.440e+00, 1.470e+00,\n",
       "         1.500e+00],\n",
       "        ...,\n",
       "        [4.800e-01, 9.600e-01, 1.440e+00, ..., 2.304e+01, 2.352e+01,\n",
       "         2.400e+01],\n",
       "        [4.900e-01, 9.800e-01, 1.470e+00, ..., 2.352e+01, 2.401e+01,\n",
       "         2.450e+01],\n",
       "        [5.000e-01, 1.000e+00, 1.500e+00, ..., 2.400e+01, 2.450e+01,\n",
       "         2.500e+01]]),\n",
       " array([[ 0.04,  0.06,  0.08, ...,  0.98,  1.  ,  1.02],\n",
       "        [ 0.06,  0.09,  0.12, ...,  1.47,  1.5 ,  1.53],\n",
       "        [ 0.08,  0.12,  0.16, ...,  1.96,  2.  ,  2.04],\n",
       "        ...,\n",
       "        [ 0.98,  1.47,  1.96, ..., 24.01, 24.5 , 24.99],\n",
       "        [ 1.  ,  1.5 ,  2.  , ..., 24.5 , 25.  , 25.5 ],\n",
       "        [ 1.02,  1.53,  2.04, ..., 24.99, 25.5 , 26.01]]))"
      ]
     },
     "execution_count": 152,
     "metadata": {},
     "output_type": "execute_result"
    }
   ],
   "source": [
    "A, B"
   ]
  },
  {
   "cell_type": "code",
   "execution_count": 153,
   "id": "6c954442-f18c-46df-89c3-8c3e794a1ec0",
   "metadata": {},
   "outputs": [
    {
     "name": "stdout",
     "output_type": "stream",
     "text": [
      "[[8.840000e+00 1.326000e+01 1.768000e+01 ... 2.165800e+02 2.210000e+02\n",
      "  2.254200e+02]\n",
      " [1.768000e+01 2.652000e+01 3.536000e+01 ... 4.331600e+02 4.420000e+02\n",
      "  4.508400e+02]\n",
      " [2.652000e+01 3.978000e+01 5.304000e+01 ... 6.497400e+02 6.630000e+02\n",
      "  6.762600e+02]\n",
      " ...\n",
      " [4.243200e+02 6.364800e+02 8.486400e+02 ... 1.039584e+04 1.060800e+04\n",
      "  1.082016e+04]\n",
      " [4.331600e+02 6.497400e+02 8.663200e+02 ... 1.061242e+04 1.082900e+04\n",
      "  1.104558e+04]\n",
      " [4.420000e+02 6.630000e+02 8.840000e+02 ... 1.082900e+04 1.105000e+04\n",
      "  1.127100e+04]]\n",
      "time taken: 0.03445720672607422\n"
     ]
    }
   ],
   "source": [
    "# matrix multiplication using for loop \n",
    "C1 = np.empty([N,N])\n",
    "start = time.time()\n",
    "for i in range(N):\n",
    "    for j in range(N):\n",
    "        C1[i][j] = np.sum(A[i]*B[j]) #multiplying each row of A with each column of B. Since B is symmetric, no transpose required \n",
    "\n",
    "end = time.time()\n",
    "print(np.round(C1,3)) \n",
    "print(\"time taken:\", end-start)"
   ]
  },
  {
   "cell_type": "code",
   "execution_count": 154,
   "id": "faf16d15-2c3f-41d9-b0b8-937b5f5455a5",
   "metadata": {},
   "outputs": [
    {
     "name": "stdout",
     "output_type": "stream",
     "text": [
      "[[8.840000e+00 1.326000e+01 1.768000e+01 ... 2.165800e+02 2.210000e+02\n",
      "  2.254200e+02]\n",
      " [1.768000e+01 2.652000e+01 3.536000e+01 ... 4.331600e+02 4.420000e+02\n",
      "  4.508400e+02]\n",
      " [2.652000e+01 3.978000e+01 5.304000e+01 ... 6.497400e+02 6.630000e+02\n",
      "  6.762600e+02]\n",
      " ...\n",
      " [4.243200e+02 6.364800e+02 8.486400e+02 ... 1.039584e+04 1.060800e+04\n",
      "  1.082016e+04]\n",
      " [4.331600e+02 6.497400e+02 8.663200e+02 ... 1.061242e+04 1.082900e+04\n",
      "  1.104558e+04]\n",
      " [4.420000e+02 6.630000e+02 8.840000e+02 ... 1.082900e+04 1.105000e+04\n",
      "  1.127100e+04]]\n",
      "time taken: 0.0\n"
     ]
    }
   ],
   "source": [
    "# matrix multuplication using numpy.dot function \n",
    "start = time.time()\n",
    "C2 = np.dot(A,B) \n",
    "end = time.time()\n",
    "print(np.round(C2,3))\n",
    "print(\"time taken:\", end-start)"
   ]
  },
  {
   "cell_type": "markdown",
   "id": "0c5952c3-b9d6-49c4-a13d-ebb726f3f563",
   "metadata": {},
   "source": [
    "the numpy.dot function takes less time because it performs direct vector multiplication and we are multiplying every element and appending it to a third array manually "
   ]
  },
  {
   "cell_type": "markdown",
   "id": "87866a33-8795-412e-8907-88e93da1c8a4",
   "metadata": {},
   "source": [
    "### Question 2"
   ]
  },
  {
   "cell_type": "code",
   "execution_count": 155,
   "id": "ec57e68a-aacf-4854-a4e5-dcb842d9c46f",
   "metadata": {},
   "outputs": [],
   "source": [
    "# a)\n",
    "def kinematics(i:int, x:np.array, t:np.array):\n",
    "    v = (x[i+1] - x[i-1])/(t[i+1] - t[i-1])\n",
    "    a = (2/(t[i+1] - t[i-1]))*(((x[i+1] - x[i])/(t[i+1] - t[i])) - ((x[i] - x[i-1])/(t[i] - t[i-1])))\n",
    "\n",
    "    return v, a"
   ]
  },
  {
   "cell_type": "code",
   "execution_count": 156,
   "id": "9a7b63e6-7985-4203-ac45-f197564ae7fa",
   "metadata": {},
   "outputs": [
    {
     "data": {
      "text/plain": [
       "(3.5, 1.0)"
      ]
     },
     "execution_count": 156,
     "metadata": {},
     "output_type": "execute_result"
    }
   ],
   "source": [
    "# testing \n",
    "x = np.array([1, 4, 8, 12])\n",
    "t = np.array([1, 2, 3, 4])\n",
    "\n",
    "v1, a1 = kinematics(1, x, t)\n",
    "v1, a1"
   ]
  },
  {
   "cell_type": "code",
   "execution_count": 157,
   "id": "0ca30d4c-4a34-415a-a623-43c72d6cb920",
   "metadata": {},
   "outputs": [
    {
     "data": {
      "text/plain": [
       "(array([10., 17., 18., 16., 19., 20., 18., 18., 18., 18., 18., 18., 17.,\n",
       "        15., 14., 14.]),\n",
       " array([  0.,   5.,  10.,  12.,  15.,  20.,  25.,  30.,  35.,  40.,  50.,\n",
       "         60.,  70.,  80.,  90., 100.]))"
      ]
     },
     "execution_count": 157,
     "metadata": {},
     "output_type": "execute_result"
    }
   ],
   "source": [
    "# b)\n",
    "data=np.loadtxt(r\"C:\\Users\\User\\GPS_data.txt\", skiprows=1)\n",
    "t, x = data.T[0], data.T[1]\n",
    "x,t"
   ]
  },
  {
   "cell_type": "code",
   "execution_count": 158,
   "id": "1da0555a-6f19-4f23-b698-a8b8a2f20abb",
   "metadata": {},
   "outputs": [],
   "source": [
    "def test_kinematics(x, t):\n",
    "    for i in range(1, len(x)-1):\n",
    "        v,a = kinematics(i,x,t)\n",
    "        print((v,a))"
   ]
  },
  {
   "cell_type": "code",
   "execution_count": 159,
   "id": "beb50ef3-9f9f-46b6-a358-ae7e62bdf56e",
   "metadata": {},
   "outputs": [
    {
     "name": "stdout",
     "output_type": "stream",
     "text": [
      "(0.8, -0.24)\n",
      "(-0.14285714285714285, -0.3428571428571428)\n",
      "(0.2, 0.8)\n",
      "(0.5, -0.2)\n",
      "(-0.1, -0.12000000000000002)\n",
      "(-0.2, 0.08000000000000002)\n",
      "(0.0, 0.0)\n",
      "(0.0, 0.0)\n",
      "(0.0, 0.0)\n",
      "(0.0, 0.0)\n",
      "(-0.05, -0.010000000000000002)\n",
      "(-0.15, -0.010000000000000002)\n",
      "(-0.15, 0.010000000000000002)\n",
      "(-0.05, 0.010000000000000002)\n"
     ]
    }
   ],
   "source": [
    "test_kinematics(x,t)"
   ]
  },
  {
   "cell_type": "markdown",
   "id": "da6599d8-10a6-4f95-8b45-9abbf049af73",
   "metadata": {},
   "source": [
    "### Question 3"
   ]
  },
  {
   "cell_type": "code",
   "execution_count": 160,
   "id": "021af6ea-e91c-4518-bc3d-6e0605ceb336",
   "metadata": {},
   "outputs": [
    {
     "name": "stdout",
     "output_type": "stream",
     "text": [
      "2\n",
      "3\n"
     ]
    }
   ],
   "source": [
    "def count_pairs(dna, pair):\n",
    "    sum = 0\n",
    "    n = len(pair)\n",
    "    for i in range(len(dna)-1):\n",
    "        if pair[0]==dna[i]:\n",
    "            if pair[0:n]==dna[i:i+n]: #checking each substring using slicing \n",
    "                sum+=1\n",
    "    print(sum)\n",
    "count_pairs(\"ACTGCTATCCATT\", \"AT\")\n",
    "count_pairs(\"ATCTTATCGAATC\", \"ATC\")"
   ]
  },
  {
   "cell_type": "markdown",
   "id": "9ff42878-57fb-4f6f-a6fc-e593d49b432e",
   "metadata": {},
   "source": [
    "### Question 4"
   ]
  },
  {
   "cell_type": "code",
   "execution_count": 161,
   "id": "c7fbf44b-1a5b-47f8-802f-a08ee77f55c2",
   "metadata": {},
   "outputs": [],
   "source": [
    "data=np.loadtxt(r\"C:\\Users\\User\\planet_data.txt\", skiprows=17)"
   ]
  },
  {
   "cell_type": "code",
   "execution_count": 162,
   "id": "5695ce3a-633c-46c1-8089-be1572f0aedf",
   "metadata": {},
   "outputs": [],
   "source": [
    "T, a, r, m = data.T[0], data.T[1], data.T[2], data.T[3]"
   ]
  },
  {
   "cell_type": "code",
   "execution_count": 128,
   "id": "f6454baa-44c5-4a8b-a05c-2f153e36f3f3",
   "metadata": {},
   "outputs": [
    {
     "name": "stdout",
     "output_type": "stream",
     "text": [
      "[139510.019 168798.087 102745.817 ...  98848.188  94418.464  98811.962]\n"
     ]
    }
   ],
   "source": [
    "ratio = T**2/a**3\n",
    "print(np.round(ratio,3)) "
   ]
  },
  {
   "cell_type": "markdown",
   "id": "77851eae-fcc1-4c95-a604-cf00d2bc1ea2",
   "metadata": {},
   "source": [
    "since data is given for different stars, kepler's law cannot be verified "
   ]
  },
  {
   "cell_type": "code",
   "execution_count": 135,
   "id": "72aef3b3-08ed-4143-b70d-baa28c7323bf",
   "metadata": {},
   "outputs": [
    {
     "data": {
      "text/plain": [
       "Text(0.5, 0, 'radius')"
      ]
     },
     "execution_count": 135,
     "metadata": {},
     "output_type": "execute_result"
    },
    {
     "data": {
      "image/png": "[encoded data removed]",
      "text/plain": [
       "<Figure size 640x480 with 1 Axes>"
      ]
     },
     "metadata": {},
     "output_type": "display_data"
    }
   ],
   "source": [
    "plt.scatter(r,m, s=2)\n",
    "plt.title(\"Planet mass vs radius\")\n",
    "plt.ylabel(\"mass\")\n",
    "plt.xlabel(\"radius\")"
   ]
  },
  {
   "cell_type": "code",
   "execution_count": null,
   "id": "90eab8f3-339d-4323-8aee-590bab1703e2",
   "metadata": {},
   "outputs": [],
   "source": []
  }
 ],
 "metadata": {
  "kernelspec": {
   "display_name": "Python 3 (ipykernel)",
   "language": "python",
   "name": "python3"
  },
  "language_info": {
   "codemirror_mode": {
    "name": "ipython",
    "version": 3
   },
   "file_extension": ".py",
   "mimetype": "text/x-python",
   "name": "python",
   "nbconvert_exporter": "python",
   "pygments_lexer": "ipython3",
   "version": "3.12.7"
  }
 },
 "nbformat": 4,
 "nbformat_minor": 5
}
