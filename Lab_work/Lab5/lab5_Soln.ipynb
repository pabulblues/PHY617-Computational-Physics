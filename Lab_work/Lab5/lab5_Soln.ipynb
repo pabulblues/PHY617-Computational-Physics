{
 "cells": [
  {
   "cell_type": "code",
   "execution_count": 2,
   "id": "377cd5db-1410-4f28-bd7c-022f90fe5150",
   "metadata": {},
   "outputs": [],
   "source": [
    "import numpy as np \n",
    "import matplotlib.pyplot as plt"
   ]
  },
  {
   "cell_type": "markdown",
   "id": "c524631e-c0ac-441c-9453-a731fc2e8160",
   "metadata": {},
   "source": [
    "### Question 1"
   ]
  },
  {
   "cell_type": "code",
   "execution_count": 28,
   "id": "b2acc803-d7f6-4550-8d45-cadc79b80b80",
   "metadata": {},
   "outputs": [],
   "source": [
    "# 1.)\n",
    "def f(x): \n",
    "    return 2.0*(np.exp(-(x**2)))*(np.cos(2*np.pi*x))"
   ]
  },
  {
   "cell_type": "code",
   "execution_count": 34,
   "id": "a21a88e8-12f2-46b1-a407-e38e6d2bafd2",
   "metadata": {},
   "outputs": [
    {
     "name": "stdout",
     "output_type": "stream",
     "text": [
      "For q = 2\n",
      "Interpolated value: 1.431091497054298\n",
      "Error in interpolation: 2.9845214991445017\n",
      "For q = 4\n",
      "Interpolated value: -1.7869376109913797\n",
      "Error in interpolation: 0.23350760890117606\n",
      "For q = 8\n",
      "Interpolated value: -0.8829106588114621\n",
      "Error in interpolation: 0.6705193432787415\n",
      "For q = 16\n",
      "Interpolated value: 0.39216948852717426\n",
      "Error in interpolation: 1.945599490617378\n"
     ]
    }
   ],
   "source": [
    "def search_closest(xp, x):\n",
    "    for i in range(len(x)):\n",
    "        if xp>x[i]:\n",
    "            return x[i], x[i+1]\n",
    "\n",
    "def linear_interpolate(xp,x):\n",
    "    a, b = search_closest(xp,x)\n",
    "    f1 = f(a)\n",
    "    f2 = f(b)\n",
    "    m = (f2-f1)/(b-a)\n",
    "    y = m*(xp - a) + f1\n",
    "    return y \n",
    "\n",
    "#Error\n",
    "def error(f, xp, y):\n",
    "    error = abs(f(xp) - y)\n",
    "    return error\n",
    "\n",
    "#2.)\n",
    "xp = -0.45 \n",
    "q = [2,4,8,16]\n",
    "for i in q:\n",
    "    x = list(np.linspace(-1,1,i+1))\n",
    "    print(\"For q =\",i)\n",
    "    print(\"Interpolated value:\", linear_interpolate(xp,x))\n",
    "    print(\"Error in interpolation:\", error(f, xp, linear_interpolate(xp,x))) "
   ]
  },
  {
   "cell_type": "markdown",
   "id": "414c92e1-8ee8-4d1d-bf13-04dc39e5d62f",
   "metadata": {},
   "source": [
    "### Question 2"
   ]
  },
  {
   "cell_type": "code",
   "execution_count": 79,
   "id": "5107fedf-dbc9-46bf-8524-37e550bbbfef",
   "metadata": {},
   "outputs": [],
   "source": [
    "#a)\n",
    "def L_k(x, k, j, xp, yp):\n",
    "    return (x - xp[j])/(xp[k] - xp[j])\n",
    "    \n",
    "def p_L(x, xp, yp):\n",
    "    y = 0\n",
    "    n = len(xp)\n",
    "    for i in range(n):\n",
    "        p = 1\n",
    "        for j in range(n):\n",
    "            if i != j:\n",
    "                p = p * L_k(x, i, j, xp, yp)\n",
    "        y = y + p * yp[i]    \n",
    "    return y "
   ]
  },
  {
   "cell_type": "code",
   "execution_count": 101,
   "id": "87559e87-1464-4b3f-b512-55ecc32f8095",
   "metadata": {},
   "outputs": [
    {
     "name": "stdout",
     "output_type": "stream",
     "text": [
      "error values: 0.0\n",
      "error values: 0.0\n",
      "error values: 0.0\n",
      "error values: 0.0\n",
      "error values: 0.0\n",
      "Interpolated point between 2 interpolated points: 0.793568074596188\n",
      "Actual value: 0.7933533402912352\n"
     ]
    }
   ],
   "source": [
    "#b)\n",
    "def test_p_L(xp, yp):\n",
    "    for i in range(len(xp)):\n",
    "        print(\"error values:\",abs(p_L(xp[i], xp, yp) - yp[i]))\n",
    "\n",
    "xp = np.linspace(0, np.pi, 5)\n",
    "yp = np.array([np.sin(x) for x in xp])\n",
    "\n",
    "test_p_L(xp, yp)\n",
    "\n",
    "xp_ = np.linspace(xp[0], xp[1], 4)\n",
    "yp_ = np.array([np.sin(x) for x in xp_])\n",
    "\n",
    "y1 = p_L(xp_[1], xp, yp)\n",
    "y2 = p_L(xp_[2], xp, yp)\n",
    "y3 = p_L((xp_[1]+xp[2])/2, xp, yp)\n",
    "print(\"Interpolated point between 2 interpolated points:\", y3)\n",
    "print(\"Actual value:\", np.sin((xp_[1]+xp[2])/2))"
   ]
  },
  {
   "cell_type": "markdown",
   "id": "9b8df0af-566b-4a1c-aadd-e0aa5da5391d",
   "metadata": {},
   "source": [
    "### Question 3 "
   ]
  },
  {
   "cell_type": "code",
   "execution_count": 95,
   "id": "bce39ff3-e39c-4e07-a458-db6fa1a843f8",
   "metadata": {},
   "outputs": [
    {
     "name": "stdout",
     "output_type": "stream",
     "text": [
      "for x = 0.785, interpolated value using Neville's method: 3.096\n"
     ]
    },
    {
     "data": {
      "image/png": "[encoded data removed]",
      "text/plain": [
       "<Figure size 640x480 with 1 Axes>"
      ]
     },
     "metadata": {},
     "output_type": "display_data"
    }
   ],
   "source": [
    "def neville(xData, yData, x):\n",
    "    m = len(xData)   \n",
    "    y = yData.copy()\n",
    "    for k in range(1,m):\n",
    "        y[0:m-k] = ((x - xData[k:m])*y[0:m-k] + (xData[0:m-k] - x)*y[1:m-k+1])/(xData[0:m-k] - xData[k:m]) \n",
    "\n",
    "    return y[0]\n",
    "\n",
    "xData = np.array([0, 0.5, 1, 1.5, 2])\n",
    "yData = np.array([-1.00, 1.75, 4.00, 5.75, 7.00])\n",
    "#a) \n",
    "print(\"for x = %.3f, interpolated value using Neville's method: %.3f\" % (np.pi/4, neville(xData, yData, np.pi/4)))\n",
    "\n",
    "x = np.linspace(0.0, 2.0, 10)\n",
    "n = len(x)\n",
    "yn = np.zeros(n)\n",
    "yl = np.zeros(n)\n",
    "\n",
    "#b) \n",
    "for i in range(n):\n",
    "    yn[i] = neville(xData,yData,x[i])\n",
    "    yl[i] = p_L(x[i], xData, yData)\n",
    "\n",
    "#c)\n",
    "plt.plot(xData, yData,'o')\n",
    "plt.plot(x, yn, '-')\n",
    "plt.plot(x, yl, '--')\n",
    "plt.xlabel('x')\n",
    "plt.legend(('Data','Neville','Lagrange'),loc = 0)\n",
    "plt.show()\n",
    "\n",
    "\n",
    "        "
   ]
  },
  {
   "cell_type": "code",
   "execution_count": null,
   "id": "0c8107a2-8237-4179-93a1-4da5ebb55b71",
   "metadata": {},
   "outputs": [],
   "source": []
  }
 ],
 "metadata": {
  "kernelspec": {
   "display_name": "Python 3 (ipykernel)",
   "language": "python",
   "name": "python3"
  },
  "language_info": {
   "codemirror_mode": {
    "name": "ipython",
    "version": 3
   },
   "file_extension": ".py",
   "mimetype": "text/x-python",
   "name": "python",
   "nbconvert_exporter": "python",
   "pygments_lexer": "ipython3",
   "version": "3.12.7"
  }
 },
 "nbformat": 4,
 "nbformat_minor": 5
}
