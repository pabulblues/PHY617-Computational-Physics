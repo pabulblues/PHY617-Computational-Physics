{
 "cells": [
  {
   "cell_type": "code",
   "execution_count": 82,
   "id": "7b89dc49-af21-4d2a-929d-f9d8d54da969",
   "metadata": {},
   "outputs": [],
   "source": [
    "import numpy as np\n",
    "import matplotlib.pyplot as plt"
   ]
  },
  {
   "cell_type": "markdown",
   "id": "200a4db4-5a5f-499d-bf48-77d72fb200da",
   "metadata": {},
   "source": [
    "### Question 1"
   ]
  },
  {
   "cell_type": "code",
   "execution_count": 52,
   "id": "941fa111-ac07-4665-b1d5-2803f152b780",
   "metadata": {},
   "outputs": [],
   "source": [
    "# a) \n",
    "def factorial_int(n):\n",
    "    fact = 1\n",
    "    for i in range(1, n+1):\n",
    "        fact *= i\n",
    "        if i==150: print(fact)\n",
    "    return fact"
   ]
  },
  {
   "cell_type": "code",
   "execution_count": 53,
   "id": "20938074-50bd-43ca-a4d0-dc1f429acf9c",
   "metadata": {},
   "outputs": [
    {
     "name": "stdout",
     "output_type": "stream",
     "text": [
      "57133839564458545904789328652610540031895535786011264182548375833179829124845398393126574488675311145377107878746854204162666250198684504466355949195922066574942592095735778929325357290444962472405416790722118445437122269675520000000000000000000000000000000000000\n"
     ]
    }
   ],
   "source": [
    "n = 200\n",
    "\n",
    "fact = factorial_int(n)"
   ]
  },
  {
   "cell_type": "code",
   "execution_count": 54,
   "id": "c02dccf9-b4c0-4d4b-b00b-243572ae1d4a",
   "metadata": {},
   "outputs": [
    {
     "name": "stdout",
     "output_type": "stream",
     "text": [
      "factorial using integer variable:  788657867364790503552363213932185062295135977687173263294742533244359449963403342920304284011984623904177212138919638830257642790242637105061926624952829931113462857270763317237396988943922445621451664240254033291864131227428294853277524242407573903240321257405579568660226031904170324062351700858796178922222789623703897374720000000000000000000000000000000000000000000000000\n"
     ]
    }
   ],
   "source": [
    "print(\"factorial using integer variable: \", fact)"
   ]
  },
  {
   "cell_type": "code",
   "execution_count": 77,
   "id": "329c52b6-0670-4d49-8819-de81f8b28cf1",
   "metadata": {},
   "outputs": [],
   "source": [
    "# b)\n",
    "def factorial_float(n):\n",
    "    fact = 1.0\n",
    "    for i in range(1, n+1):\n",
    "        fact *= i\n",
    "        if i==170: print(fact)\n",
    "    return fact\n"
   ]
  },
  {
   "cell_type": "code",
   "execution_count": 78,
   "id": "d0ebe2d2-93a9-4aed-8849-51b78df894fd",
   "metadata": {},
   "outputs": [
    {
     "name": "stdout",
     "output_type": "stream",
     "text": [
      "7.257415615307994e+306\n"
     ]
    }
   ],
   "source": [
    "fact = factorial_float(n)"
   ]
  },
  {
   "cell_type": "code",
   "execution_count": 43,
   "id": "729e4400-30df-4099-9ee0-6e6d073b1423",
   "metadata": {},
   "outputs": [
    {
     "name": "stdout",
     "output_type": "stream",
     "text": [
      "factorial using float variable:  inf\n"
     ]
    }
   ],
   "source": [
    "print(\"factorial using float variable: \",fact)"
   ]
  },
  {
   "cell_type": "markdown",
   "id": "5d02b012-e4ea-477a-bf70-4dc1f4813e94",
   "metadata": {},
   "source": [
    "This happens because after calculating the factorial of 170, the value of the variable becomes too large to store in the memory so it shows infinity. This does not happen for integers because an integer values takes up less memory than a float value."
   ]
  },
  {
   "cell_type": "markdown",
   "id": "acb62355-9601-4397-9b9f-39b5151d665c",
   "metadata": {},
   "source": [
    "### Question 2"
   ]
  },
  {
   "cell_type": "code",
   "execution_count": 126,
   "id": "f47216f0-b8e4-4bf7-86db-b92e681ec1be",
   "metadata": {},
   "outputs": [],
   "source": [
    "def f(x): \n",
    "    return x - np.tan(x)\n",
    "\n",
    "def bisection(a, b, tol=0.01):\n",
    "\n",
    "    # checking if root lies in the given range \n",
    "    if f(a)*f(b)>0: \n",
    "        return \"none or multiple zeros in the given range\" \n",
    "        \n",
    "    if f(a) == 0: return a\n",
    "    if f(b) == 0: return b\n",
    "\n",
    "    while (b-a)>tol: \n",
    "        # calculating the midpoint \n",
    "        x = (b+a)/2\n",
    "\n",
    "        # checking if midpoint is the root \n",
    "        if f(x)==0: \n",
    "            return x\n",
    "\n",
    "        # adjusting the range to find region where zero lies \n",
    "        if f(x)*f(a)<0: \n",
    "            b = x\n",
    "        else: \n",
    "            a = x\n",
    "    else: \n",
    "        return (a+b)/2\n"
   ]
  },
  {
   "cell_type": "code",
   "execution_count": 156,
   "id": "2aeb0d87-8043-464b-9869-1f158faf6f70",
   "metadata": {},
   "outputs": [
    {
     "data": {
      "text/plain": [
       "(17.134069132503832, -12.793240768490707)"
      ]
     },
     "execution_count": 156,
     "metadata": {},
     "output_type": "execute_result"
    }
   ],
   "source": [
    "f(14.5), f(14.1)"
   ]
  },
  {
   "cell_type": "code",
   "execution_count": 161,
   "id": "ac48d3de-8324-407e-983d-6fec2ca11e89",
   "metadata": {},
   "outputs": [
    {
     "data": {
      "text/plain": [
       "Text(0, 0.5, 'f(x)')"
      ]
     },
     "execution_count": 161,
     "metadata": {},
     "output_type": "execute_result"
    },
    {
     "data": {
      "image/png": "[encoded data removed]",
      "text/plain": [
       "<Figure size 640x480 with 1 Axes>"
      ]
     },
     "metadata": {},
     "output_type": "display_data"
    }
   ],
   "source": [
    "# plotting the function to find where zeros occur \n",
    "x = np.linspace(18, 22, 200)\n",
    "plt.plot(x, f(x))\n",
    "plt.grid()\n",
    "plt.xlabel(\"x\")\n",
    "plt.ylabel(\"f(x)\")"
   ]
  },
  {
   "cell_type": "markdown",
   "id": "7b054e4f-6458-4c19-ae32-a0ab4537c33d",
   "metadata": {},
   "source": [
    "according to the plot, the zeros lie in the following ranges: 0, (1.5, 2), (4, 4.5), (4.5, 5), (7.5, 7.8), (7.8, 8), (10.75, 10.95), (14.1), (14, 14.5), (17, 17.25), (17.25, 17.5), "
   ]
  },
  {
   "cell_type": "code",
   "execution_count": 163,
   "id": "667f82ee-d353-4035-9de5-fd31a0b29b3d",
   "metadata": {},
   "outputs": [
    {
     "name": "stdout",
     "output_type": "stream",
     "text": [
      "The zeros are: 0 1.57421875 4.49609375 4.71484375 7.7296875 7.8531249999999995 10.903125 14.134374999999999 none or multiple zeros in the given range 17.22265625 17.27734375\n"
     ]
    }
   ],
   "source": [
    "zero1 = bisection(0, 1)\n",
    "zero2 = bisection(1.5, 2)\n",
    "zero3 = bisection(4, 4.5)\n",
    "zero4 = bisection(4.5, 5)\n",
    "zero5 = bisection(7.5, 7.8)\n",
    "zero6 = bisection(7.8, 8)\n",
    "zero7 = bisection(10.75, 10.95)\n",
    "zero8 = bisection(14.1, 14.5)\n",
    "zero9 = bisection(14, 14.5)\n",
    "zero10 = bisection(17, 17.25)\n",
    "zero11 = bisection(17.25, 17.5)\n",
    "\n",
    "print(\"The zeros are:\", zero1, zero2, zero3, zero4, zero5, zero6, zero7, zero8, zero9, zero10, zero11)"
   ]
  },
  {
   "cell_type": "code",
   "execution_count": null,
   "id": "0a557776-6d61-4493-9d0a-b3fae080d54c",
   "metadata": {},
   "outputs": [],
   "source": []
  }
 ],
 "metadata": {
  "kernelspec": {
   "display_name": "Python 3 (ipykernel)",
   "language": "python",
   "name": "python3"
  },
  "language_info": {
   "codemirror_mode": {
    "name": "ipython",
    "version": 3
   },
   "file_extension": ".py",
   "mimetype": "text/x-python",
   "name": "python",
   "nbconvert_exporter": "python",
   "pygments_lexer": "ipython3",
   "version": "3.12.7"
  }
 },
 "nbformat": 4,
 "nbformat_minor": 5
}
